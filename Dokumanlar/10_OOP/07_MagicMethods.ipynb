{
 "cells": [
  {
   "cell_type": "code",
   "execution_count": 1,
   "metadata": {},
   "outputs": [],
   "source": [
    "class A:\n",
    "    def __init__(self,a):\n",
    "        self.a = a \n",
    "    \n",
    "obj1 = A(1)\n",
    "obj2 = A(2)"
   ]
  },
  {
   "cell_type": "code",
   "execution_count": 2,
   "metadata": {},
   "outputs": [
    {
     "name": "stdout",
     "output_type": "stream",
     "text": [
      "<__main__.A object at 0x7f2262f71940>\n"
     ]
    }
   ],
   "source": [
    "print(obj1)"
   ]
  },
  {
   "cell_type": "code",
   "execution_count": 4,
   "metadata": {},
   "outputs": [
    {
     "name": "stdout",
     "output_type": "stream",
     "text": [
      "1\n"
     ]
    }
   ],
   "source": [
    "class A:\n",
    "    def __init__(self,a):\n",
    "        self.a = a\n",
    "    \n",
    "    def __str__(self):\n",
    "        return str(self.a)\n",
    "    \n",
    "    def __repr__(self):\n",
    "        return str(self.a)\n",
    "    \n",
    "    \n",
    "obj1 = A(1)\n",
    "obj2 = A(2)\n",
    "print(obj1)"
   ]
  },
  {
   "cell_type": "code",
   "execution_count": 5,
   "metadata": {},
   "outputs": [
    {
     "ename": "TypeError",
     "evalue": "'>' not supported between instances of 'A' and 'A'",
     "output_type": "error",
     "traceback": [
      "\u001b[0;31m---------------------------------------------------------------------------\u001b[0m",
      "\u001b[0;31mTypeError\u001b[0m                                 Traceback (most recent call last)",
      "Cell \u001b[0;32mIn [5], line 1\u001b[0m\n\u001b[0;32m----> 1\u001b[0m obj1 \u001b[39m>\u001b[39m obj2\n",
      "\u001b[0;31mTypeError\u001b[0m: '>' not supported between instances of 'A' and 'A'"
     ]
    }
   ],
   "source": [
    "obj1 > obj2"
   ]
  },
  {
   "cell_type": "code",
   "execution_count": 8,
   "metadata": {},
   "outputs": [
    {
     "name": "stdout",
     "output_type": "stream",
     "text": [
      "3\n"
     ]
    },
    {
     "data": {
      "text/plain": [
       "True"
      ]
     },
     "execution_count": 8,
     "metadata": {},
     "output_type": "execute_result"
    }
   ],
   "source": [
    "class A:\n",
    "    def __init__(self,a):\n",
    "        self.a = a\n",
    "    \n",
    "    def __str__(self):\n",
    "        return str(self.a)\n",
    "    \n",
    "    def __repr__(self):\n",
    "        return str(self.a)\n",
    "    \n",
    "    def __lt__(self,obj): # less than\n",
    "        return obj.a > self.a\n",
    "    \n",
    "\n",
    "        \n",
    "\n",
    "    \n",
    "obj1 = A(3)\n",
    "obj2 = A(2)\n",
    "print(obj1)\n",
    "obj1 > obj2"
   ]
  },
  {
   "cell_type": "code",
   "execution_count": null,
   "metadata": {},
   "outputs": [],
   "source": []
  }
 ],
 "metadata": {
  "kernelspec": {
   "display_name": "Python 3",
   "language": "python",
   "name": "python3"
  },
  "language_info": {
   "codemirror_mode": {
    "name": "ipython",
    "version": 3
   },
   "file_extension": ".py",
   "mimetype": "text/x-python",
   "name": "python",
   "nbconvert_exporter": "python",
   "pygments_lexer": "ipython3",
   "version": "3.8.13 (default, Oct  4 2022, 14:00:32) \n[GCC 9.4.0]"
  },
  "orig_nbformat": 4,
  "vscode": {
   "interpreter": {
    "hash": "9ac03a0a6051494cc606d484d27d20fce22fb7b4d169f583271e11d5ba46a56e"
   }
  }
 },
 "nbformat": 4,
 "nbformat_minor": 2
}
