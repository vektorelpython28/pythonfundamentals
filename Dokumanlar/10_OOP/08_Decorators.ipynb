{
 "cells": [
  {
   "attachments": {},
   "cell_type": "markdown",
   "metadata": {},
   "source": [
    "`@` işareti ile başlayan ve kendisi de bir fonksiyon olabilen yapılardır. Fonksiyonun başına yazılarak o fonksiyonun çalışma biçimini değiştirir."
   ]
  },
  {
   "cell_type": "code",
   "execution_count": 7,
   "metadata": {},
   "outputs": [
    {
     "name": "stdout",
     "output_type": "stream",
     "text": [
      "120\n",
      "faktoriyel Çalışırken geçen zaman 5.0067901611328125e-05\n"
     ]
    }
   ],
   "source": [
    "import time\n",
    "def hesapZaman(fonk):\n",
    "    def icfonk(*args,**kwargs):\n",
    "        baslangic = time.time()\n",
    "        fonk(*args,**kwargs)\n",
    "        bitis = time.time()\n",
    "        print(fonk.__name__,\"Çalışırken geçen zaman\",(bitis-baslangic))\n",
    "    return icfonk\n",
    "\n",
    "@hesapZaman\n",
    "def faktoriyel(param):\n",
    "    sonuc = 1\n",
    "    for i in range(1,param+1):\n",
    "        sonuc *= i # sonuc = sonuc * i\n",
    "    print(sonuc)\n",
    "faktoriyel(5)"
   ]
  },
  {
   "cell_type": "code",
   "execution_count": null,
   "metadata": {},
   "outputs": [],
   "source": []
  }
 ],
 "metadata": {
  "kernelspec": {
   "display_name": "Python 3",
   "language": "python",
   "name": "python3"
  },
  "language_info": {
   "codemirror_mode": {
    "name": "ipython",
    "version": 3
   },
   "file_extension": ".py",
   "mimetype": "text/x-python",
   "name": "python",
   "nbconvert_exporter": "python",
   "pygments_lexer": "ipython3",
   "version": "3.8.13"
  },
  "orig_nbformat": 4,
  "vscode": {
   "interpreter": {
    "hash": "9ac03a0a6051494cc606d484d27d20fce22fb7b4d169f583271e11d5ba46a56e"
   }
  }
 },
 "nbformat": 4,
 "nbformat_minor": 2
}
