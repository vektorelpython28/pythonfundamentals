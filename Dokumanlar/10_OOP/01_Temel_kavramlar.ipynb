{
 "cells": [
  {
   "attachments": {},
   "cell_type": "markdown",
   "metadata": {},
   "source": [
    "### Temel Kavramlar\n",
    "1. Sınıf\n",
    "2. Nesne\n",
    "3. Özellik\n",
    "4. İşlev"
   ]
  },
  {
   "attachments": {},
   "cell_type": "markdown",
   "metadata": {},
   "source": [
    "1. Sınıf"
   ]
  },
  {
   "cell_type": "code",
   "execution_count": 4,
   "metadata": {},
   "outputs": [
    {
     "name": "stdout",
     "output_type": "stream",
     "text": [
      "<class 'type'>\n"
     ]
    }
   ],
   "source": [
    "class Sinif: # Sınıf\n",
    "    pass\n",
    "print(type(Sinif))"
   ]
  },
  {
   "cell_type": "code",
   "execution_count": 5,
   "metadata": {},
   "outputs": [
    {
     "name": "stdout",
     "output_type": "stream",
     "text": [
      "<class 'int'>\n"
     ]
    }
   ],
   "source": [
    "var1 = 2\n",
    "print(type(var1))"
   ]
  },
  {
   "attachments": {},
   "cell_type": "markdown",
   "metadata": {},
   "source": [
    "2. Nesne"
   ]
  },
  {
   "cell_type": "code",
   "execution_count": 3,
   "metadata": {},
   "outputs": [
    {
     "data": {
      "text/plain": [
       "<__main__.Sinif at 0x7f7c24449cd0>"
      ]
     },
     "execution_count": 3,
     "metadata": {},
     "output_type": "execute_result"
    }
   ],
   "source": [
    "Sinif() # nesne"
   ]
  },
  {
   "cell_type": "code",
   "execution_count": 6,
   "metadata": {},
   "outputs": [
    {
     "name": "stdout",
     "output_type": "stream",
     "text": [
      "<class '__main__.Sinif'>\n"
     ]
    }
   ],
   "source": [
    "obj1 = Sinif()\n",
    "print(type(obj1))"
   ]
  },
  {
   "attachments": {},
   "cell_type": "markdown",
   "metadata": {},
   "source": [
    "3. Özellik\n",
    "* Sınıf Özellik `Otomobil`\n",
    "* Örnek Özellik `Marka`"
   ]
  },
  {
   "cell_type": "code",
   "execution_count": 3,
   "metadata": {},
   "outputs": [],
   "source": [
    "class Araba:\n",
    "    tip = \"Otomobil\" # sınıf özelliği\n",
    "    def __init__(self,marka,model): # constructor\n",
    "        self.marka = marka # örnek özellik\n",
    "        self.model = model\n",
    "    \n",
    "    @classmethod\n",
    "    def tipSoyle(cls): # sınıf metodu\n",
    "        print(cls.tip)\n",
    "\n",
    "    def markaSoyle(self): # örnek metodu\n",
    "        print(self.marka)"
   ]
  },
  {
   "cell_type": "code",
   "execution_count": 4,
   "metadata": {},
   "outputs": [
    {
     "name": "stdout",
     "output_type": "stream",
     "text": [
      "Otomobil\n"
     ]
    },
    {
     "data": {
      "text/plain": [
       "'Otomobil'"
      ]
     },
     "execution_count": 4,
     "metadata": {},
     "output_type": "execute_result"
    }
   ],
   "source": [
    "Araba.tipSoyle()\n",
    "Araba.tip"
   ]
  },
  {
   "cell_type": "code",
   "execution_count": 5,
   "metadata": {},
   "outputs": [],
   "source": [
    "araba1 = Araba(\"Alfa Romeo\",\"Stelvio\")\n",
    "araba2 = Araba(\"TOFAŞ\",\"Murat 131\")"
   ]
  },
  {
   "cell_type": "code",
   "execution_count": 6,
   "metadata": {},
   "outputs": [
    {
     "name": "stdout",
     "output_type": "stream",
     "text": [
      "Alfa Romeo\n",
      "TOFAŞ\n"
     ]
    }
   ],
   "source": [
    "araba1.markaSoyle()\n",
    "araba2.markaSoyle()"
   ]
  },
  {
   "cell_type": "code",
   "execution_count": 14,
   "metadata": {},
   "outputs": [
    {
     "name": "stdout",
     "output_type": "stream",
     "text": [
      "Otomobil\n",
      "Otomobil\n"
     ]
    }
   ],
   "source": [
    "araba1.tipSoyle()\n",
    "araba2.tipSoyle()"
   ]
  },
  {
   "attachments": {},
   "cell_type": "markdown",
   "metadata": {},
   "source": [
    "Egzersiz:<br>\n",
    "yukarıdaki araba sınıfı örneğinden faydalanarak internet fenomenleri tanımlayabileceğimiz bir sınıf örneği oluşturunuz.Çalışmalarınızı 10_01_Temel_Kavramlar.py dosyasında gerçekleştirebiliriz. \n",
    "* örnek özellik olarak sloganı ve adını saklayınız\n",
    "* sınıf özelliği olarak internet fenomeni yazını\n",
    "* örnek metod çalıştırıldığında ilgili fenomenin ismi:slogan şeklinde bir çıktı üretsin"
   ]
  },
  {
   "cell_type": "code",
   "execution_count": null,
   "metadata": {},
   "outputs": [],
   "source": []
  }
 ],
 "metadata": {
  "kernelspec": {
   "display_name": "Python 3",
   "language": "python",
   "name": "python3"
  },
  "language_info": {
   "codemirror_mode": {
    "name": "ipython",
    "version": 3
   },
   "file_extension": ".py",
   "mimetype": "text/x-python",
   "name": "python",
   "nbconvert_exporter": "python",
   "pygments_lexer": "ipython3",
   "version": "3.8.13 (default, Oct  4 2022, 14:00:32) \n[GCC 9.4.0]"
  },
  "orig_nbformat": 4,
  "vscode": {
   "interpreter": {
    "hash": "9ac03a0a6051494cc606d484d27d20fce22fb7b4d169f583271e11d5ba46a56e"
   }
  }
 },
 "nbformat": 4,
 "nbformat_minor": 2
}
