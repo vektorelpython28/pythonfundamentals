{
 "cells": [
  {
   "attachments": {},
   "cell_type": "markdown",
   "metadata": {},
   "source": [
    "### Encapsulation\n",
    "* privates\n",
    "* property\n",
    "* getter setter and deleter functions"
   ]
  },
  {
   "attachments": {},
   "cell_type": "markdown",
   "metadata": {},
   "source": [
    "#### privates"
   ]
  },
  {
   "attachments": {},
   "cell_type": "markdown",
   "metadata": {},
   "source": [
    "```\n",
    "__gizli # gizli\n",
    "__gizli_ # gizli\n",
    "__gizli__ # GİZLİ DEĞİL\n",
    "```"
   ]
  },
  {
   "cell_type": "code",
   "execution_count": 4,
   "metadata": {},
   "outputs": [
    {
     "ename": "AttributeError",
     "evalue": "'A' object has no attribute '__gizli'",
     "output_type": "error",
     "traceback": [
      "\u001b[0;31m---------------------------------------------------------------------------\u001b[0m",
      "\u001b[0;31mAttributeError\u001b[0m                            Traceback (most recent call last)",
      "Cell \u001b[0;32mIn [4], line 6\u001b[0m\n\u001b[1;32m      4\u001b[0m         \u001b[39mself\u001b[39m\u001b[39m.\u001b[39m__gizli \u001b[39m=\u001b[39m \u001b[39m\"\u001b[39m\u001b[39mJamiryo\u001b[39m\u001b[39m\"\u001b[39m\n\u001b[1;32m      5\u001b[0m objA \u001b[39m=\u001b[39m A(\u001b[39m2\u001b[39m)\n\u001b[0;32m----> 6\u001b[0m objA\u001b[39m.\u001b[39m__gizli\n",
      "\u001b[0;31mAttributeError\u001b[0m: 'A' object has no attribute '__gizli'"
     ]
    }
   ],
   "source": [
    "class A:\n",
    "    def __init__(self,a):\n",
    "        self.a = a\n",
    "        self.__gizli = \"Jamiryo\"\n",
    "objA = A(2)\n",
    "objA.__gizli"
   ]
  },
  {
   "cell_type": "code",
   "execution_count": 11,
   "metadata": {},
   "outputs": [
    {
     "data": {
      "text/plain": [
       "'Yetki Hatası'"
      ]
     },
     "execution_count": 11,
     "metadata": {},
     "output_type": "execute_result"
    }
   ],
   "source": [
    "class A:\n",
    "    def __init__(self,a):\n",
    "        self.a = a\n",
    "        self.__gizli = \"Jamiryo\"\n",
    "\n",
    "    def alver(self): #getter\n",
    "        if self.a == 1:\n",
    "            return self.__gizli\n",
    "        else:\n",
    "            return \"Yetki Hatası\"\n",
    "objA = A(2)\n",
    "objA.alver()"
   ]
  },
  {
   "cell_type": "code",
   "execution_count": 12,
   "metadata": {},
   "outputs": [
    {
     "data": {
      "text/plain": [
       "'Jamiryo'"
      ]
     },
     "execution_count": 12,
     "metadata": {},
     "output_type": "execute_result"
    }
   ],
   "source": [
    "objA = A(1)\n",
    "objA.alver()"
   ]
  },
  {
   "cell_type": "code",
   "execution_count": 17,
   "metadata": {},
   "outputs": [
    {
     "data": {
      "text/plain": [
       "'Yetki Hatası'"
      ]
     },
     "execution_count": 17,
     "metadata": {},
     "output_type": "execute_result"
    }
   ],
   "source": [
    "class A:\n",
    "    def __init__(self,a):\n",
    "        self.a = a\n",
    "        self.__gizli = \"Jamiryo\"\n",
    "\n",
    "    @property\n",
    "    def alver(self): #getter\n",
    "        if self.a == 1:\n",
    "            return self.__gizli\n",
    "        else:\n",
    "            return \"Yetki Hatası\"\n",
    "objA = A(2)\n",
    "objA.alver"
   ]
  },
  {
   "cell_type": "code",
   "execution_count": 30,
   "metadata": {},
   "outputs": [
    {
     "name": "stdout",
     "output_type": "stream",
     "text": [
      "1 Jamiryo\n",
      "2 5\n",
      "3 5 Silinmeye Çalışıldı\n",
      "##############################\n",
      "self.a için 2 kullanırsak\n",
      "4 Yetki Hatası\n"
     ]
    }
   ],
   "source": [
    "class A:\n",
    "    def __init__(self,a):\n",
    "        self.a = a\n",
    "        self.__gizli = \"Jamiryo\"\n",
    "\n",
    "    @property\n",
    "    def alver(self): #getter\n",
    "        if self.a == 1:\n",
    "            return self.__gizli\n",
    "        else:\n",
    "            return \"Yetki Hatası\"\n",
    "    \n",
    "    @alver.setter\n",
    "    def alver(self,param):\n",
    "        if isinstance(param,int) and param in range(1,11) and self.a == 1:\n",
    "            self.__gizli = param\n",
    "    \n",
    "    @alver.deleter\n",
    "    def alver(self):\n",
    "        if self.a == 1:\n",
    "            self.__gizli = str(self.__gizli) + \" Silinmeye Çalışıldı\"\n",
    "            \n",
    "objA = A(1)\n",
    "print(\"1\",objA.alver)\n",
    "objA.alver = 5\n",
    "print(\"2\",objA.alver)\n",
    "del objA.alver\n",
    "print(\"3\",objA.alver)\n",
    "print(\"#\"*30)\n",
    "print(\"self.a için 2 kullanırsak\")\n",
    "objA.a = 2\n",
    "objA.alver = 10\n",
    "print(\"4\",objA.alver)"
   ]
  },
  {
   "attachments": {},
   "cell_type": "markdown",
   "metadata": {},
   "source": [
    "Egzersiz<br>\n",
    "* Cokgen adında bir sınıf oluşturunuz. \n",
    "* Bu sınıfta kenar sayısı ve Adı adından iki örnek özellik ve bir aci adında  gizli örnek özellik tanımlayınız\n",
    "* AciSoyle adında bir getter fonksiyonu tanımlayınız. \n",
    "* Gizli değişken üretilen nesnenin adı Üçgen ise açı bilgisini verebilsin diğer seçeneklerde isim hatası değerini dönsün\n",
    "* getter fonksiyonunu property e dönüştürünüz\n",
    "* Bu sınıfı kullanarak Üçgen ve Kare adında iki farklı nesne oluşturunuz.\n"
   ]
  },
  {
   "cell_type": "code",
   "execution_count": null,
   "metadata": {},
   "outputs": [],
   "source": []
  }
 ],
 "metadata": {
  "kernelspec": {
   "display_name": "Python 3",
   "language": "python",
   "name": "python3"
  },
  "language_info": {
   "codemirror_mode": {
    "name": "ipython",
    "version": 3
   },
   "file_extension": ".py",
   "mimetype": "text/x-python",
   "name": "python",
   "nbconvert_exporter": "python",
   "pygments_lexer": "ipython3",
   "version": "3.8.13 (default, Oct  4 2022, 14:00:32) \n[GCC 9.4.0]"
  },
  "orig_nbformat": 4,
  "vscode": {
   "interpreter": {
    "hash": "9ac03a0a6051494cc606d484d27d20fce22fb7b4d169f583271e11d5ba46a56e"
   }
  }
 },
 "nbformat": 4,
 "nbformat_minor": 2
}
