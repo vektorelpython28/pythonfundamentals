{
 "cells": [
  {
   "cell_type": "code",
   "execution_count": 4,
   "metadata": {},
   "outputs": [
    {
     "name": "stdout",
     "output_type": "stream",
     "text": [
      "Yakıt Alındı\n"
     ]
    }
   ],
   "source": [
    "from abc import ABC,abstractmethod\n",
    "\n",
    "class Arac(ABC):\n",
    "    @abstractmethod\n",
    "    def yakitAl(self):\n",
    "        pass\n",
    "\n",
    "class Otomobil(Arac):\n",
    "    def yakitAl(self):\n",
    "        print(\"Yakıt Alındı\")\n",
    "Otomobil().yakitAl()"
   ]
  },
  {
   "cell_type": "code",
   "execution_count": null,
   "metadata": {},
   "outputs": [],
   "source": []
  }
 ],
 "metadata": {
  "kernelspec": {
   "display_name": "env",
   "language": "python",
   "name": "python3"
  },
  "language_info": {
   "codemirror_mode": {
    "name": "ipython",
    "version": 3
   },
   "file_extension": ".py",
   "mimetype": "text/x-python",
   "name": "python",
   "nbconvert_exporter": "python",
   "pygments_lexer": "ipython3",
   "version": "3.8.13 (default, Oct  4 2022, 14:00:32) \n[GCC 9.4.0]"
  },
  "orig_nbformat": 4,
  "vscode": {
   "interpreter": {
    "hash": "b5b494bdad5bcb97fd852ae5968a837882e6a278305668dc24ba8c9a5bb01f73"
   }
  }
 },
 "nbformat": 4,
 "nbformat_minor": 2
}
